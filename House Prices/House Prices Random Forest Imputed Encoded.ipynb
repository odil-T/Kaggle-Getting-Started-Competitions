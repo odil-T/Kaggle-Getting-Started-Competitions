{
 "cells": [
  {
   "cell_type": "code",
   "execution_count": 2,
   "id": "b3989e74-4e70-4ebe-94ed-082989ebe92c",
   "metadata": {},
   "outputs": [],
   "source": [
    "import pandas as pd\n",
    "from sklearn.ensemble import RandomForestRegressor\n",
    "from sklearn.model_selection import train_test_split\n",
    "from sklearn.metrics import mean_squared_error, mean_absolute_error\n",
    "from sklearn.preprocessing import OrdinalEncoder\n",
    "from sklearn.impute import SimpleImputer"
   ]
  },
  {
   "cell_type": "code",
   "execution_count": 3,
   "id": "2286e434-76ba-410c-a687-3ecdf4d86778",
   "metadata": {},
   "outputs": [],
   "source": [
    "train_data = pd.read_csv('train.csv')\n",
    "X_test = pd.read_csv('test.csv')\n",
    "\n",
    "X = train_data.drop('SalePrice', axis=1)\n",
    "y = train_data.SalePrice\n",
    "\n",
    "X_train, X_valid, y_train, y_valid = train_test_split(X, y, random_state=0, test_size=0.2)"
   ]
  },
  {
   "cell_type": "code",
   "execution_count": 4,
   "id": "755d6797-5dc0-4f77-8124-37fcfbbbbe0f",
   "metadata": {
    "scrolled": true
   },
   "outputs": [],
   "source": [
    "object_cols = [col for col in X.columns if X[col].dtype=='object']\n",
    "\n",
    "# missing values\n",
    "# numerical columns\n",
    "# num_X_train = X_train.drop(object_cols, axis=1)\n",
    "# num_X_valid = X_valid.drop(object_cols, axis=1)\n",
    "\n",
    "imputer_mean = SimpleImputer()\n",
    "# impt_num_X_train = pd.DataFrame(imputer_mean.fit_transform(num_X_train))\n",
    "# impt_num_X_valid = pd.DataFrame(imputer_mean.transform(num_X_valid))\n",
    "\n",
    "# impt_num_X_train.columns = num_X_train.columns\n",
    "# impt_num_X_valid.columns = num_X_valid.columns\n",
    "\n",
    "# categorical columns\n",
    "# cat_X_train = X_train[object_cols]\n",
    "# cat_X_valid = X_valid[object_cols]\n",
    "\n",
    "imputer_mode = SimpleImputer(strategy='most_frequent')\n",
    "# impt_cat_X_train = pd.DataFrame(imputer_mode.fit_transform(cat_X_train))\n",
    "# impt_cat_X_valid = pd.DataFrame(imputer_mode.transform(cat_X_valid))\n",
    "\n",
    "# impt_cat_X_train.columns = cat_X_train.columns\n",
    "# impt_cat_X_valid.columns = cat_X_valid.columns"
   ]
  },
  {
   "cell_type": "code",
   "execution_count": 5,
   "id": "23635bfa-7497-477a-87de-5e599012af8b",
   "metadata": {},
   "outputs": [],
   "source": [
    "# categorical values\n",
    "# good_label_cols = [col for col in impt_cat_X_train.columns if set(impt_cat_X_valid[col]).issubset(set(impt_cat_X_train[col]))]\n",
    "\n",
    "ordinal = OrdinalEncoder()\n",
    "# impt_ord_X_train = pd.DataFrame(ordinal.fit_transform(impt_cat_X_train[good_label_cols]))\n",
    "# impt_ord_X_valid = pd.DataFrame(ordinal.transform(impt_cat_X_valid[good_label_cols]))\n",
    "\n",
    "# impt_ord_X_train.columns = impt_cat_X_train[good_label_cols].columns\n",
    "# impt_ord_X_valid.columns = impt_cat_X_valid[good_label_cols].columns"
   ]
  },
  {
   "cell_type": "code",
   "execution_count": 6,
   "id": "94b3b302-86bb-43d2-914d-2dda570b25be",
   "metadata": {},
   "outputs": [],
   "source": [
    "# imputed & encoded\n",
    "# final_X_train = pd.concat([impt_num_X_train, impt_ord_X_train], axis=1)\n",
    "# final_X_valid = pd.concat([impt_num_X_valid, impt_ord_X_valid], axis=1)"
   ]
  },
  {
   "cell_type": "code",
   "execution_count": 7,
   "id": "2deab9f1-7503-4320-9706-f4c6f26b62b6",
   "metadata": {},
   "outputs": [],
   "source": [
    "# entire train dataset X\n",
    "num_X = X.drop(object_cols, axis=1)\n",
    "impt_num_X = pd.DataFrame(imputer_mean.fit_transform(num_X))\n",
    "impt_num_X.columns = num_X.columns\n",
    "\n",
    "cat_X = X[object_cols]\n",
    "impt_cat_X = pd.DataFrame(imputer_mode.fit_transform(cat_X))\n",
    "impt_ord_X = pd.DataFrame(ordinal.fit_transform(impt_cat_X))\n",
    "impt_ord_X.columns = cat_X.columns\n",
    "\n",
    "final_X = pd.concat([impt_num_X, impt_ord_X], axis=1)"
   ]
  },
  {
   "cell_type": "code",
   "execution_count": 8,
   "id": "456485b0-648d-4ad8-923b-35bcbe5aee84",
   "metadata": {},
   "outputs": [],
   "source": [
    "# model = RandomForestRegressor()\n",
    "\n",
    "# model.fit(final_X_train, y_train)\n",
    "# yhat_valid = model.predict(final_X_valid)\n",
    "\n",
    "# cost_f = mean_squared_error(y_valid, yhat_valid)\n",
    "# print(cost_f)"
   ]
  },
  {
   "cell_type": "code",
   "execution_count": 18,
   "id": "6fbf28c5-3cda-4bce-bc32-497f09f605e8",
   "metadata": {},
   "outputs": [],
   "source": [
    "# preprocess X_test\n",
    "\n",
    "num_X_test = X_test.drop(object_cols, axis=1)\n",
    "impt_num_X_test = pd.DataFrame(imputer_mean.fit_transform(num_X_test))\n",
    "impt_num_X_test.columns = num_X_test.columns\n",
    "\n",
    "cat_X_test = X_test[object_cols]\n",
    "impt_cat_X_test = pd.DataFrame(imputer_mode.fit_transform(cat_X_test))\n",
    "impt_ord_X_test = pd.DataFrame(ordinal.fit_transform(impt_cat_X_test))\n",
    "impt_ord_X_test.columns = cat_X_test.columns\n",
    "\n",
    "final_X_test = pd.concat([impt_num_X_test, impt_ord_X_test], axis=1)"
   ]
  },
  {
   "cell_type": "code",
   "execution_count": 23,
   "id": "4d493a35-dc87-4a72-b934-0cd659605712",
   "metadata": {},
   "outputs": [],
   "source": [
    "model2 = RandomForestRegressor()\n",
    "\n",
    "model2.fit(final_X, y)\n",
    "yhat = model2.predict(final_X_test)\n",
    "\n",
    "output = pd.DataFrame({'Id': X_test.Id,\n",
    "                       'SalePrice': yhat})\n",
    "\n",
    "output.to_csv('submission.csv', index=False)"
   ]
  },
  {
   "cell_type": "code",
   "execution_count": null,
   "id": "b2d9272e-d984-4d7b-b42a-96c5f0ef347e",
   "metadata": {},
   "outputs": [],
   "source": []
  }
 ],
 "metadata": {
  "kernelspec": {
   "display_name": "Python 3 (ipykernel)",
   "language": "python",
   "name": "python3"
  },
  "language_info": {
   "codemirror_mode": {
    "name": "ipython",
    "version": 3
   },
   "file_extension": ".py",
   "mimetype": "text/x-python",
   "name": "python",
   "nbconvert_exporter": "python",
   "pygments_lexer": "ipython3",
   "version": "3.11.4"
  }
 },
 "nbformat": 4,
 "nbformat_minor": 5
}
