{
 "cells": [
  {
   "cell_type": "code",
   "execution_count": 9,
   "id": "847c02b4-2aa9-48ba-8f1d-05fe390429f9",
   "metadata": {},
   "outputs": [],
   "source": [
    "import pandas as pd\n",
    "from sklearn.ensemble import RandomForestRegressor\n",
    "from sklearn.model_selection import train_test_split, cross_val_score\n",
    "from sklearn.metrics import mean_squared_error, mean_absolute_error\n",
    "from sklearn.preprocessing import OrdinalEncoder\n",
    "from sklearn.impute import SimpleImputer\n",
    "from sklearn.compose import ColumnTransformer\n",
    "from sklearn.pipeline import Pipeline"
   ]
  },
  {
   "cell_type": "code",
   "execution_count": 3,
   "id": "4cd33c6b-fe17-45f8-8428-57f287ca653e",
   "metadata": {},
   "outputs": [],
   "source": [
    "train_data = pd.read_csv('train.csv')\n",
    "X_test = pd.read_csv('test.csv')\n",
    "\n",
    "X = train_data.drop('SalePrice', axis=1)\n",
    "y = train_data.SalePrice\n",
    "\n",
    "object_cols = [col for col in X.columns if X[col].dtype=='object']\n",
    "numerical_cols = list(set(X.columns) - set(object_cols))"
   ]
  },
  {
   "cell_type": "code",
   "execution_count": 16,
   "id": "80380bc1-4a94-487f-ae9b-99960a1fb4b5",
   "metadata": {},
   "outputs": [
    {
     "name": "stdout",
     "output_type": "stream",
     "text": [
      "17639.799424657533\n"
     ]
    }
   ],
   "source": [
    "ordinal = OrdinalEncoder()\n",
    "X[object_cols] = pd.DataFrame(ordinal.fit_transform(X[object_cols]))\n",
    "\n",
    "imputer_mean = SimpleImputer()\n",
    "imputer_mode = SimpleImputer(strategy='most_frequent')\n",
    "\n",
    "preprocessor = ColumnTransformer(transformers=[('num', imputer_mean, numerical_cols),\n",
    "                                               ('cat', imputer_mode, object_cols)])\n",
    "\n",
    "model = RandomForestRegressor()\n",
    "\n",
    "my_pipeline = Pipeline(steps=[('preprocessor', preprocessor),\n",
    "                              ('model', model)])\n",
    "\n",
    "\n",
    "scores = -1 * cross_val_score(my_pipeline, X, y, cv=5, scoring='neg_mean_absolute_error')\n",
    "print(scores.mean())\n"
   ]
  },
  {
   "cell_type": "code",
   "execution_count": null,
   "id": "84d7bdb1-19c9-4f34-b48a-dcaec47ee28f",
   "metadata": {},
   "outputs": [],
   "source": []
  }
 ],
 "metadata": {
  "kernelspec": {
   "display_name": "Python 3 (ipykernel)",
   "language": "python",
   "name": "python3"
  },
  "language_info": {
   "codemirror_mode": {
    "name": "ipython",
    "version": 3
   },
   "file_extension": ".py",
   "mimetype": "text/x-python",
   "name": "python",
   "nbconvert_exporter": "python",
   "pygments_lexer": "ipython3",
   "version": "3.11.4"
  }
 },
 "nbformat": 4,
 "nbformat_minor": 5
}
