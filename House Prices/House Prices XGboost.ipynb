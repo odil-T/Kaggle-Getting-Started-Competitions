{
 "cells": [
  {
   "cell_type": "code",
   "execution_count": 1,
   "id": "149b720a-a6e6-4d13-a54b-1beb8133d0b7",
   "metadata": {},
   "outputs": [],
   "source": [
    "import pandas as pd\n",
    "from xgboost import XGBRegressor\n",
    "from sklearn.model_selection import train_test_split, cross_val_score\n",
    "from sklearn.preprocessing import OrdinalEncoder\n",
    "from sklearn.metrics import mean_absolute_error"
   ]
  },
  {
   "cell_type": "code",
   "execution_count": 2,
   "id": "ea998d89-bbeb-405b-b788-f582752b3201",
   "metadata": {},
   "outputs": [],
   "source": [
    "train_data = pd.read_csv('train.csv')\n",
    "X_test = pd.read_csv('test.csv')\n",
    "\n",
    "y = train_data.SalePrice\n",
    "X = train_data.drop('SalePrice', axis=1)\n",
    "\n",
    "object_cols = [col for col in X.columns if X[col].dtype=='object']\n",
    "ordinal = OrdinalEncoder()\n",
    "X[object_cols] = pd.DataFrame(ordinal.fit_transform(X[object_cols]))\n",
    "X_test[object_cols] = pd.DataFrame(ordinal.fit_transform(X_test[object_cols]))"
   ]
  },
  {
   "cell_type": "code",
   "execution_count": 3,
   "id": "81223747-d407-4212-9d62-5717810a3797",
   "metadata": {},
   "outputs": [
    {
     "name": "stdout",
     "output_type": "stream",
     "text": [
      "16187.08883775685\n",
      "739\n"
     ]
    }
   ],
   "source": [
    "X_train, X_valid, y_train, y_valid = train_test_split(X, y, random_state=0)\n",
    "\n",
    "model = XGBRegressor(n_estimators=1000, early_stopping_rounds=5, learning_rate=0.01)\n",
    "\n",
    "model.fit(X_train, y_train,\n",
    "         eval_set=[(X_valid, y_valid)],\n",
    "         verbose=False)\n",
    "\n",
    "yhat_valid = model.predict(X_valid)\n",
    "\n",
    "mae = mean_absolute_error(y_valid, yhat_valid)\n",
    "print(mae)\n",
    "\n",
    "print(model.best_ntree_limit)"
   ]
  },
  {
   "cell_type": "code",
   "execution_count": 13,
   "id": "90e477ba-5626-43bd-b8d5-a4b4ebb35de0",
   "metadata": {},
   "outputs": [],
   "source": [
    "# model_full = XGBRegressor(n_estimators=646, learning_rate=0.01)\n",
    "\n",
    "# model_full.fit(X, y)\n",
    "\n",
    "# yhat_test = model_full.predict(X_test)"
   ]
  },
  {
   "cell_type": "code",
   "execution_count": 15,
   "id": "4c8b5cdd-0151-44b4-bf25-3801fb0c8a64",
   "metadata": {},
   "outputs": [],
   "source": [
    "# output = pd.DataFrame({'Id': X_test.Id,\n",
    "#                        'SalePrice': yhat_test})\n",
    "\n",
    "# output.to_csv('submission_xgboost.csv', index=False)"
   ]
  },
  {
   "cell_type": "code",
   "execution_count": null,
   "id": "22b6bf45-4bf6-47ec-9312-bcbca8c09da9",
   "metadata": {},
   "outputs": [],
   "source": []
  }
 ],
 "metadata": {
  "kernelspec": {
   "display_name": "Python 3 (ipykernel)",
   "language": "python",
   "name": "python3"
  },
  "language_info": {
   "codemirror_mode": {
    "name": "ipython",
    "version": 3
   },
   "file_extension": ".py",
   "mimetype": "text/x-python",
   "name": "python",
   "nbconvert_exporter": "python",
   "pygments_lexer": "ipython3",
   "version": "3.11.4"
  }
 },
 "nbformat": 4,
 "nbformat_minor": 5
}
