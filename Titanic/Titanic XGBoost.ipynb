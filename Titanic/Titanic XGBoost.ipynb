{
 "cells": [
  {
   "cell_type": "code",
   "execution_count": 11,
   "id": "4c35407b-8e87-4a2d-9f06-a5e737c671c4",
   "metadata": {},
   "outputs": [],
   "source": [
    "import pandas as pd\n",
    "import numpy as np\n",
    "from xgboost import XGBRegressor\n",
    "from sklearn.metrics import mean_squared_error, accuracy_score\n",
    "from sklearn.preprocessing import OrdinalEncoder\n",
    "from sklearn.model_selection import train_test_split"
   ]
  },
  {
   "cell_type": "code",
   "execution_count": 12,
   "id": "77dcebca-a6c7-4ebc-93e2-578a3403c400",
   "metadata": {},
   "outputs": [],
   "source": [
    "def od_ordinal(X, object_cols):\n",
    "    \"\"\"Takes in X dataframe and a list of column names with object\n",
    "       data type and returns an ordinal encoded X dataframe.\"\"\"\n",
    "\n",
    "    ordinal = OrdinalEncoder()\n",
    "    X[object_cols] = pd.DataFrame(ordinal.fit_transform(X[object_cols]))\n",
    "    return X"
   ]
  },
  {
   "cell_type": "code",
   "execution_count": 13,
   "id": "d23e4431-a491-4590-a07c-fee7a0487043",
   "metadata": {},
   "outputs": [],
   "source": [
    "def normalize(x):\n",
    "    return ' '.join([a.strip(',()[].\\'\"') for a in x.split(' ')])\n",
    "\n",
    "def ticket_number(x):\n",
    "    return x.split(' ')[-1]\n",
    "\n",
    "def ticket_object(x):\n",
    "    if len(x) == 1:\n",
    "        return 'NONE'\n",
    "    return '_'.join(x.split(' ')[:-1])"
   ]
  },
  {
   "cell_type": "code",
   "execution_count": 14,
   "id": "afa3da54-3bbf-4d35-af97-744a4bb0cbe1",
   "metadata": {},
   "outputs": [],
   "source": [
    "train_set = pd.read_csv('train.csv')\n",
    "\n",
    "X = train_set.drop('Survived', axis=1)\n",
    "y = train_set.Survived\n",
    "X_test = pd.read_csv('test.csv')\n",
    "\n",
    "X.Name = X.Name.apply(normalize)\n",
    "X['Ticket_Number'] = X.Ticket.apply(ticket_number)\n",
    "X.loc[X['Ticket_Number'] == 'LINE', 'Ticket_Number'] = np.nan\n",
    "X['Ticket'] = X.Ticket.apply(ticket_object)\n",
    "\n",
    "X_test.Name = X_test.Name.apply(normalize)\n",
    "X_test['Ticket_Number'] = X_test.Ticket.apply(ticket_number)\n",
    "X_test.loc[X_test['Ticket_Number'] == 'LINE', 'Ticket_Number'] = np.nan\n",
    "X_test['Ticket'] = X_test.Ticket.apply(ticket_object)\n",
    "\n",
    "object_cols = [col for col in X.columns if X[col].dtype=='object']\n",
    "\n",
    "X = od_ordinal(X, object_cols)\n",
    "X_test = od_ordinal(X_test, object_cols)"
   ]
  },
  {
   "cell_type": "code",
   "execution_count": 15,
   "id": "ce6a7e50-80c9-421e-8005-f8e03fec9482",
   "metadata": {},
   "outputs": [
    {
     "name": "stdout",
     "output_type": "stream",
     "text": [
      "0.8430493273542601 79\n"
     ]
    }
   ],
   "source": [
    "X_train, X_valid, y_train, y_valid = train_test_split(X, y, random_state=0)\n",
    "\n",
    "model = XGBRegressor(n_estimators=1000, learning_rate=0.05, early_stopping_rounds=10)\n",
    "model.fit(X_train, y_train, eval_set=[(X_train, y_train), (X_valid, y_valid)], verbose=False)\n",
    "yhat_valid = np.where(model.predict(X_valid) >= 0.5, 1, 0) \n",
    "\n",
    "cost = accuracy_score(y_valid, yhat_valid)\n",
    "\n",
    "print(cost, model.best_ntree_limit)"
   ]
  },
  {
   "cell_type": "code",
   "execution_count": 16,
   "id": "384f9435-96cc-4a68-ab3e-c9358fef5c01",
   "metadata": {},
   "outputs": [],
   "source": [
    "# whole train set\n",
    "\n",
    "model_2 = XGBRegressor(n_estimators=69, learning_rate=0.05)\n",
    "\n",
    "model_2.fit(X, y)\n",
    "\n",
    "yhat_test = np.where(model_2.predict(X_test) >= 0.5, 1, 0) \n",
    "\n",
    "output = pd.DataFrame({'PassengerId': X_test.PassengerId,\n",
    "                       'Survived': yhat_test,})\n",
    "\n",
    "output.to_csv('submission2.csv', index=False)"
   ]
  },
  {
   "cell_type": "code",
   "execution_count": null,
   "id": "220c9654-cab0-4899-909d-238951b05f4d",
   "metadata": {},
   "outputs": [],
   "source": []
  }
 ],
 "metadata": {
  "kernelspec": {
   "display_name": "Python 3 (ipykernel)",
   "language": "python",
   "name": "python3"
  },
  "language_info": {
   "codemirror_mode": {
    "name": "ipython",
    "version": 3
   },
   "file_extension": ".py",
   "mimetype": "text/x-python",
   "name": "python",
   "nbconvert_exporter": "python",
   "pygments_lexer": "ipython3",
   "version": "3.11.4"
  }
 },
 "nbformat": 4,
 "nbformat_minor": 5
}
