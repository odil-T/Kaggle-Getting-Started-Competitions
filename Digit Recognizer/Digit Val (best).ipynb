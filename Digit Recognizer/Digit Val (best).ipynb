{
 "cells": [
  {
   "cell_type": "code",
   "execution_count": 20,
   "metadata": {
    "executionInfo": {
     "elapsed": 399,
     "status": "ok",
     "timestamp": 1694079790238,
     "user": {
      "displayName": "Carbon",
      "userId": "06105250010540716850"
     },
     "user_tz": -300
    },
    "id": "uuAvnWU--2Z4"
   },
   "outputs": [],
   "source": [
    "import pandas as pd\n",
    "import tensorflow as tf\n",
    "import numpy as np\n",
    "from sklearn.model_selection import train_test_split\n",
    "from tensorflow.keras.layers import *\n",
    "from tensorflow.python.ops.numpy_ops import np_config\n",
    "np_config.enable_numpy_behavior()"
   ]
  },
  {
   "cell_type": "code",
   "execution_count": 2,
   "metadata": {
    "executionInfo": {
     "elapsed": 16754,
     "status": "ok",
     "timestamp": 1694078837529,
     "user": {
      "displayName": "Carbon",
      "userId": "06105250010540716850"
     },
     "user_tz": -300
    },
    "id": "wfrxyGwJUyM3"
   },
   "outputs": [],
   "source": [
    "train_data = pd.read_csv('/content/drive/MyDrive/Colab Notebooks/train.csv')\n",
    "test_data = pd.read_csv('/content/drive/MyDrive/Colab Notebooks/test.csv')\n",
    "\n",
    "y = train_data.label\n",
    "X = train_data.drop('label', axis=1)\n",
    "X = tf.constant(X).astype(tf.uint8).reshape(-1, 28, 28, 1)\n",
    "X_test = tf.constant(test_data).astype(tf.uint8).reshape(-1, 28, 28, 1)\n",
    "\n",
    "X_train, X_valid, y_train, y_valid = train_test_split(X, y, random_state=0)"
   ]
  },
  {
   "cell_type": "code",
   "execution_count": 15,
   "metadata": {
    "colab": {
     "base_uri": "https://localhost:8080/"
    },
    "executionInfo": {
     "elapsed": 109264,
     "status": "ok",
     "timestamp": 1694079459566,
     "user": {
      "displayName": "Carbon",
      "userId": "06105250010540716850"
     },
     "user_tz": -300
    },
    "id": "rhgsKgt5UzCJ",
    "outputId": "cdaeed7d-54e8-4c60-9b82-f7318a619884"
   },
   "outputs": [
    {
     "name": "stdout",
     "output_type": "stream",
     "text": [
      "Epoch 1/100\n",
      "1/1 [==============================] - 6s 6s/step - loss: 2.7926 - accuracy: 0.0854 - val_loss: 3.0698 - val_accuracy: 0.0985\n",
      "Epoch 2/100\n",
      "1/1 [==============================] - 2s 2s/step - loss: 2.1134 - accuracy: 0.2288 - val_loss: 2.9647 - val_accuracy: 0.1102\n",
      "Epoch 3/100\n",
      "1/1 [==============================] - 2s 2s/step - loss: 1.9434 - accuracy: 0.2656 - val_loss: 3.3512 - val_accuracy: 0.0985\n",
      "Epoch 4/100\n",
      "1/1 [==============================] - 2s 2s/step - loss: 2.0178 - accuracy: 0.3217 - val_loss: 3.1798 - val_accuracy: 0.1227\n",
      "Epoch 5/100\n",
      "1/1 [==============================] - 2s 2s/step - loss: 1.6347 - accuracy: 0.4122 - val_loss: 3.0249 - val_accuracy: 0.1228\n",
      "Epoch 6/100\n",
      "1/1 [==============================] - 2s 2s/step - loss: 1.4842 - accuracy: 0.4439 - val_loss: 2.8738 - val_accuracy: 0.1704\n",
      "Epoch 7/100\n",
      "1/1 [==============================] - 2s 2s/step - loss: 1.2890 - accuracy: 0.4973 - val_loss: 2.7886 - val_accuracy: 0.1631\n",
      "Epoch 8/100\n",
      "1/1 [==============================] - 2s 2s/step - loss: 1.1717 - accuracy: 0.5325 - val_loss: 2.7362 - val_accuracy: 0.1212\n",
      "Epoch 9/100\n",
      "1/1 [==============================] - 2s 2s/step - loss: 1.0875 - accuracy: 0.5642 - val_loss: 2.7188 - val_accuracy: 0.0985\n",
      "Epoch 10/100\n",
      "1/1 [==============================] - 2s 2s/step - loss: 1.0057 - accuracy: 0.5839 - val_loss: 2.7040 - val_accuracy: 0.0950\n",
      "Epoch 11/100\n",
      "1/1 [==============================] - 2s 2s/step - loss: 0.9337 - accuracy: 0.6154 - val_loss: 2.6679 - val_accuracy: 0.0949\n",
      "Epoch 12/100\n",
      "1/1 [==============================] - 2s 2s/step - loss: 0.8558 - accuracy: 0.6654 - val_loss: 2.6044 - val_accuracy: 0.0950\n",
      "Epoch 13/100\n",
      "1/1 [==============================] - 2s 2s/step - loss: 0.7891 - accuracy: 0.7096 - val_loss: 2.5425 - val_accuracy: 0.0959\n",
      "Epoch 14/100\n",
      "1/1 [==============================] - 2s 2s/step - loss: 0.7312 - accuracy: 0.7358 - val_loss: 2.4977 - val_accuracy: 0.0950\n",
      "Epoch 15/100\n",
      "1/1 [==============================] - 2s 2s/step - loss: 0.6504 - accuracy: 0.7757 - val_loss: 2.4606 - val_accuracy: 0.0951\n",
      "Epoch 16/100\n",
      "1/1 [==============================] - 2s 2s/step - loss: 0.5886 - accuracy: 0.8001 - val_loss: 2.4205 - val_accuracy: 0.0959\n",
      "Epoch 17/100\n",
      "1/1 [==============================] - 2s 2s/step - loss: 0.5565 - accuracy: 0.8120 - val_loss: 2.3619 - val_accuracy: 0.1020\n",
      "Epoch 18/100\n",
      "1/1 [==============================] - 2s 2s/step - loss: 0.5151 - accuracy: 0.8252 - val_loss: 2.3011 - val_accuracy: 0.1132\n",
      "Epoch 19/100\n",
      "1/1 [==============================] - 2s 2s/step - loss: 0.4782 - accuracy: 0.8417 - val_loss: 2.2471 - val_accuracy: 0.1266\n",
      "Epoch 20/100\n",
      "1/1 [==============================] - 2s 2s/step - loss: 0.4573 - accuracy: 0.8558 - val_loss: 2.1987 - val_accuracy: 0.1367\n",
      "Epoch 21/100\n",
      "1/1 [==============================] - 2s 2s/step - loss: 0.4287 - accuracy: 0.8645 - val_loss: 2.1602 - val_accuracy: 0.1474\n",
      "Epoch 22/100\n",
      "1/1 [==============================] - 2s 2s/step - loss: 0.4103 - accuracy: 0.8744 - val_loss: 2.1187 - val_accuracy: 0.1651\n",
      "Epoch 23/100\n",
      "1/1 [==============================] - 2s 2s/step - loss: 0.3898 - accuracy: 0.8803 - val_loss: 2.0611 - val_accuracy: 0.1831\n",
      "Epoch 24/100\n",
      "1/1 [==============================] - 2s 2s/step - loss: 0.3712 - accuracy: 0.8881 - val_loss: 1.9827 - val_accuracy: 0.2028\n",
      "Epoch 25/100\n",
      "1/1 [==============================] - 2s 2s/step - loss: 0.3476 - accuracy: 0.8948 - val_loss: 1.8979 - val_accuracy: 0.2331\n",
      "Epoch 26/100\n",
      "1/1 [==============================] - 2s 2s/step - loss: 0.3324 - accuracy: 0.9042 - val_loss: 1.8173 - val_accuracy: 0.2817\n",
      "Epoch 27/100\n",
      "1/1 [==============================] - 2s 2s/step - loss: 0.3129 - accuracy: 0.9106 - val_loss: 1.7500 - val_accuracy: 0.3316\n",
      "Epoch 28/100\n",
      "1/1 [==============================] - 2s 2s/step - loss: 0.2978 - accuracy: 0.9160 - val_loss: 1.6929 - val_accuracy: 0.3779\n",
      "Epoch 29/100\n",
      "1/1 [==============================] - 2s 2s/step - loss: 0.2923 - accuracy: 0.9185 - val_loss: 1.6420 - val_accuracy: 0.4171\n",
      "Epoch 30/100\n",
      "1/1 [==============================] - 2s 2s/step - loss: 0.2719 - accuracy: 0.9235 - val_loss: 1.5929 - val_accuracy: 0.4585\n",
      "Epoch 31/100\n",
      "1/1 [==============================] - 2s 2s/step - loss: 0.2614 - accuracy: 0.9239 - val_loss: 1.5435 - val_accuracy: 0.5068\n",
      "Epoch 32/100\n",
      "1/1 [==============================] - 2s 2s/step - loss: 0.2553 - accuracy: 0.9246 - val_loss: 1.4888 - val_accuracy: 0.5680\n",
      "Epoch 33/100\n",
      "1/1 [==============================] - 2s 2s/step - loss: 0.2486 - accuracy: 0.9251 - val_loss: 1.4325 - val_accuracy: 0.6226\n",
      "Epoch 34/100\n",
      "1/1 [==============================] - 2s 2s/step - loss: 0.2388 - accuracy: 0.9290 - val_loss: 1.3854 - val_accuracy: 0.6710\n",
      "Epoch 35/100\n",
      "1/1 [==============================] - 2s 2s/step - loss: 0.2297 - accuracy: 0.9312 - val_loss: 1.3519 - val_accuracy: 0.7020\n",
      "Epoch 36/100\n",
      "1/1 [==============================] - 2s 2s/step - loss: 0.2188 - accuracy: 0.9359 - val_loss: 1.3294 - val_accuracy: 0.7261\n",
      "Epoch 37/100\n",
      "1/1 [==============================] - 2s 2s/step - loss: 0.2140 - accuracy: 0.9373 - val_loss: 1.3135 - val_accuracy: 0.7423\n",
      "Epoch 38/100\n",
      "1/1 [==============================] - 2s 2s/step - loss: 0.2070 - accuracy: 0.9397 - val_loss: 1.3032 - val_accuracy: 0.7480\n",
      "Epoch 39/100\n",
      "1/1 [==============================] - 2s 2s/step - loss: 0.2042 - accuracy: 0.9391 - val_loss: 1.2968 - val_accuracy: 0.7510\n",
      "Epoch 40/100\n",
      "1/1 [==============================] - 2s 2s/step - loss: 0.1954 - accuracy: 0.9428 - val_loss: 1.2944 - val_accuracy: 0.7495\n",
      "Epoch 41/100\n",
      "1/1 [==============================] - 2s 2s/step - loss: 0.1905 - accuracy: 0.9421 - val_loss: 1.2976 - val_accuracy: 0.7439\n",
      "Epoch 42/100\n",
      "1/1 [==============================] - 2s 2s/step - loss: 0.1867 - accuracy: 0.9436 - val_loss: 1.3085 - val_accuracy: 0.7316\n",
      "Epoch 43/100\n",
      "1/1 [==============================] - 2s 2s/step - loss: 0.1839 - accuracy: 0.9434 - val_loss: 1.3281 - val_accuracy: 0.7103\n",
      "Epoch 44/100\n",
      "1/1 [==============================] - 2s 2s/step - loss: 0.1827 - accuracy: 0.9419 - val_loss: 1.3595 - val_accuracy: 0.6689\n",
      "Epoch 45/100\n",
      "1/1 [==============================] - 2s 2s/step - loss: 0.1750 - accuracy: 0.9463 - val_loss: 1.4001 - val_accuracy: 0.6142\n",
      "Epoch 46/100\n",
      "1/1 [==============================] - 2s 2s/step - loss: 0.1730 - accuracy: 0.9465 - val_loss: 1.4485 - val_accuracy: 0.5510\n",
      "Epoch 47/100\n",
      "1/1 [==============================] - 2s 2s/step - loss: 0.1694 - accuracy: 0.9473 - val_loss: 1.5025 - val_accuracy: 0.4987\n",
      "Epoch 48/100\n",
      "1/1 [==============================] - 2s 2s/step - loss: 0.1604 - accuracy: 0.9503 - val_loss: 1.5531 - val_accuracy: 0.4531\n",
      "Epoch 49/100\n",
      "1/1 [==============================] - 2s 2s/step - loss: 0.1644 - accuracy: 0.9484 - val_loss: 1.5983 - val_accuracy: 0.4188\n",
      "Epoch 50/100\n",
      "1/1 [==============================] - 2s 2s/step - loss: 0.1562 - accuracy: 0.9514 - val_loss: 1.6335 - val_accuracy: 0.3886\n",
      "Epoch 51/100\n",
      "1/1 [==============================] - 2s 2s/step - loss: 0.1571 - accuracy: 0.9493 - val_loss: 1.6653 - val_accuracy: 0.3632\n",
      "Epoch 52/100\n",
      "1/1 [==============================] - 2s 2s/step - loss: 0.1484 - accuracy: 0.9533 - val_loss: 1.6965 - val_accuracy: 0.3412\n",
      "Epoch 53/100\n",
      "1/1 [==============================] - 2s 2s/step - loss: 0.1484 - accuracy: 0.9523 - val_loss: 1.7292 - val_accuracy: 0.3239\n",
      "Epoch 54/100\n",
      "1/1 [==============================] - 2s 2s/step - loss: 0.1471 - accuracy: 0.9529 - val_loss: 1.7646 - val_accuracy: 0.3010\n",
      "Epoch 55/100\n",
      "1/1 [==============================] - 2s 2s/step - loss: 0.1387 - accuracy: 0.9571 - val_loss: 1.8056 - val_accuracy: 0.2847\n",
      "Epoch 56/100\n",
      "1/1 [==============================] - 2s 2s/step - loss: 0.1414 - accuracy: 0.9550 - val_loss: 1.8488 - val_accuracy: 0.2658\n",
      "Epoch 57/100\n",
      "1/1 [==============================] - 2s 2s/step - loss: 0.1352 - accuracy: 0.9575 - val_loss: 1.9011 - val_accuracy: 0.2452\n",
      "Epoch 58/100\n",
      "1/1 [==============================] - 2s 2s/step - loss: 0.1375 - accuracy: 0.9567 - val_loss: 1.9511 - val_accuracy: 0.2250\n",
      "Epoch 59/100\n",
      "1/1 [==============================] - 2s 2s/step - loss: 0.1360 - accuracy: 0.9577 - val_loss: 1.9979 - val_accuracy: 0.2096\n",
      "Epoch 60/100\n",
      "1/1 [==============================] - 2s 2s/step - loss: 0.1293 - accuracy: 0.9599 - val_loss: 2.0338 - val_accuracy: 0.1979\n"
     ]
    }
   ],
   "source": [
    "early_stopping = tf.keras.callbacks.EarlyStopping(\n",
    "    min_delta=0.001,\n",
    "    patience=20,\n",
    "    restore_best_weights=True\n",
    ")\n",
    "\n",
    "model = tf.keras.Sequential([\n",
    "    BatchNormalization(input_shape=[28, 28, 1]),\n",
    "    Conv2D(filters=32, kernel_size=3, activation='relu', padding='same'),\n",
    "    MaxPooling2D(pool_size=2, padding='same'),\n",
    "\n",
    "    BatchNormalization(),\n",
    "    Conv2D(filters=64, kernel_size=3, activation='relu', padding='same'),\n",
    "    MaxPooling2D(pool_size=2, padding='same'),\n",
    "\n",
    "    BatchNormalization(),\n",
    "    Conv2D(filters=128, kernel_size=3, activation='relu', padding='same'),\n",
    "    MaxPooling2D(pool_size=2, padding='same'),\n",
    "\n",
    "    BatchNormalization(),\n",
    "    Conv2D(filters=256, kernel_size=3, activation='relu', padding='same'),\n",
    "    MaxPooling2D(pool_size=2, padding='same'),\n",
    "\n",
    "    BatchNormalization(),\n",
    "    Conv2D(filters=512, kernel_size=3, activation='relu', padding='same'),\n",
    "    MaxPooling2D(pool_size=2, padding='same'),\n",
    "\n",
    "    Flatten(),\n",
    "    Dense(20, activation='relu'),\n",
    "    Dropout(rate=0.3),\n",
    "    Dense(10),\n",
    "])\n",
    "\n",
    "model.compile(\n",
    "    loss=tf.keras.losses.SparseCategoricalCrossentropy(from_logits=True),\n",
    "    optimizer=tf.keras.optimizers.Adam(),\n",
    "    metrics=['accuracy'],\n",
    ")\n",
    "\n",
    "fit_object = model.fit(\n",
    "    X_train, y_train,\n",
    "    validation_data=(X_valid, y_valid),\n",
    "    epochs=100,\n",
    "    batch_size=31500,\n",
    "    callbacks=[early_stopping]\n",
    ")"
   ]
  },
  {
   "cell_type": "code",
   "execution_count": 16,
   "metadata": {
    "colab": {
     "base_uri": "https://localhost:8080/",
     "height": 451
    },
    "executionInfo": {
     "elapsed": 34915,
     "status": "ok",
     "timestamp": 1694079494477,
     "user": {
      "displayName": "Carbon",
      "userId": "06105250010540716850"
     },
     "user_tz": -300
    },
    "id": "2TytGngKuCg5",
    "outputId": "cbee8c4a-c120-49cb-cc2a-d2fe34ab5785"
   },
   "outputs": [
    {
     "data": {
      "text/plain": [
       "<Axes: >"
      ]
     },
     "execution_count": 16,
     "metadata": {},
     "output_type": "execute_result"
    },
    {
     "data": {
      "image/png": "[encoded data removed]",
      "text/plain": [
       "<Figure size 640x480 with 1 Axes>"
      ]
     },
     "metadata": {},
     "output_type": "display_data"
    }
   ],
   "source": [
    "history_df = pd.DataFrame(fit_object.history)\n",
    "history_df.loc[:, ['loss', 'val_loss']].plot()"
   ]
  },
  {
   "cell_type": "code",
   "execution_count": 23,
   "metadata": {
    "colab": {
     "base_uri": "https://localhost:8080/"
    },
    "executionInfo": {
     "elapsed": 5533,
     "status": "ok",
     "timestamp": 1694079992108,
     "user": {
      "displayName": "Carbon",
      "userId": "06105250010540716850"
     },
     "user_tz": -300
    },
    "id": "N7-CDy_c0F_8",
    "outputId": "9001a5dc-e823-4b62-84b3-d95f9049735f"
   },
   "outputs": [
    {
     "name": "stdout",
     "output_type": "stream",
     "text": [
      "875/875 [==============================] - 4s 5ms/step\n"
     ]
    }
   ],
   "source": [
    "yhat_test = np.argmax(model.predict(X_test), axis=1)\n",
    "\n",
    "output_df = pd.DataFrame({\n",
    "    'ImageId': range(1, len(test_data)+1),\n",
    "    'Label': yhat_test,\n",
    "})\n",
    "\n",
    "output_df.to_csv('/content/drive/MyDrive/Colab Notebooks/submission_1.csv', index=False)"
   ]
  },
  {
   "cell_type": "code",
   "execution_count": null,
   "metadata": {
    "id": "Sv-gOxCS_jVz"
   },
   "outputs": [],
   "source": []
  }
 ],
 "metadata": {
  "accelerator": "GPU",
  "colab": {
   "authorship_tag": "ABX9TyMWLUT6DX+MSj2C1a9Qtmrl",
   "gpuType": "T4",
   "mount_file_id": "1l7CIanjH-xhEPngzHRlPNu7GYRiMf1f6",
   "provenance": []
  },
  "kernelspec": {
   "display_name": "Python 3 (ipykernel)",
   "language": "python",
   "name": "python3"
  },
  "language_info": {
   "codemirror_mode": {
    "name": "ipython",
    "version": 3
   },
   "file_extension": ".py",
   "mimetype": "text/x-python",
   "name": "python",
   "nbconvert_exporter": "python",
   "pygments_lexer": "ipython3",
   "version": "3.11.3"
  }
 },
 "nbformat": 4,
 "nbformat_minor": 4
}
