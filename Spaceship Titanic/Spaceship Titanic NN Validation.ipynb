{
 "cells": [
  {
   "cell_type": "code",
   "execution_count": 1,
   "id": "fad6b0a2-2cde-4d75-92e6-193f3525b27d",
   "metadata": {},
   "outputs": [],
   "source": [
    "# make cabin2 into object and number\n",
    "# just run below"
   ]
  },
  {
   "cell_type": "code",
   "execution_count": 2,
   "id": "1daf1cb4-469d-4121-89cd-c6c52f7b49a7",
   "metadata": {},
   "outputs": [],
   "source": [
    "from tensorflow import keras\n",
    "from keras import layers\n",
    "import pandas as pd\n",
    "import numpy as np\n",
    "from sklearn.model_selection import train_test_split\n",
    "from sklearn.preprocessing import OrdinalEncoder, OneHotEncoder\n",
    "from sklearn.impute import SimpleImputer"
   ]
  },
  {
   "cell_type": "code",
   "execution_count": 3,
   "id": "9c4f97b5-1db4-40fd-8c91-3c11f62564bb",
   "metadata": {},
   "outputs": [],
   "source": [
    "def od_ordinal(object_cols, *X_tuple):\n",
    "    \"\"\"Takes in X dataframe(s) and a list of column names with object\n",
    "       data type and returns an ordinal encoded X dataframe(s).\"\"\"\n",
    "\n",
    "    ordinal = OrdinalEncoder()\n",
    "    for x in X_tuple:\n",
    "        x[object_cols] = pd.DataFrame(ordinal.fit_transform(x[object_cols]))\n",
    "    return X_tuple\n",
    "\n",
    "def od_imputer(numerical_cols, object_cols, *X_tuple):\n",
    "    \"\"\"Imputes the numerical and categorical columns of X dataframe(s) before returning the\n",
    "       said dataframe(s).\"\"\"\n",
    "\n",
    "    imputer_mean = SimpleImputer()\n",
    "    imputer_mode = SimpleImputer(strategy='most_frequent')\n",
    "\n",
    "    for x in X_tuple:\n",
    "        x[numerical_cols] = imputer_mean.fit_transform(x[numerical_cols])\n",
    "        x[object_cols] = imputer_mode.fit_transform(x[object_cols])\n",
    "    \n",
    "    return X_tuple"
   ]
  },
  {
   "cell_type": "code",
   "execution_count": 4,
   "id": "f121672b-794d-46d7-88ed-176f97fece9d",
   "metadata": {},
   "outputs": [],
   "source": [
    "train_data = pd.read_csv('train.csv')\n",
    "test_data = pd.read_csv('test.csv')\n",
    "\n",
    "X = train_data.drop(['PassengerId', 'Transported'], axis=1)\n",
    "y = train_data.Transported\n",
    "X_test = test_data.drop('PassengerId', axis=1)\n",
    "\n",
    "# parsing Cabin and Name columns\n",
    "X[['Cabin', 'Cabin2', 'Cabin3']] = X['Cabin'].str.split('/', expand=True)\n",
    "X[['First Name', 'Last Name']] = X['Name'].str.split(' ', expand=True)\n",
    "X_test[['Cabin', 'Cabin2', 'Cabin3']] = X_test['Cabin'].str.split('/', expand=True)\n",
    "X_test[['First Name', 'Last Name']] = X_test['Name'].str.split(' ', expand=True)\n",
    "X['Cabin2'] = X['Cabin2'].astype('float')\n",
    "X_test['Cabin2'] = X_test['Cabin2'].astype('float')\n",
    "\n",
    "object_cols = [col for col in X.columns if X[col].dtype=='object']\n",
    "numerical_cols = list(set(X.columns) - set(object_cols))\n",
    "\n",
    "# preprocessing\n",
    "X, X_test = od_ordinal(object_cols, X, X_test)\n",
    "X_test, = od_imputer(numerical_cols, object_cols, X_test)"
   ]
  },
  {
   "cell_type": "code",
   "execution_count": 5,
   "id": "c2f08ece-1d0d-48ea-b14c-35db0b54e0f9",
   "metadata": {},
   "outputs": [],
   "source": [
    "X_train, X_valid, y_train, y_valid = train_test_split(X, y, random_state=0)\n",
    "X_train, X_valid = od_imputer(numerical_cols, object_cols, X_train, X_valid)\n",
    "\n",
    "early_stopping = keras.callbacks.EarlyStopping(min_delta=0.0001,\n",
    "                                               patience=20,\n",
    "                                               restore_best_weights=True\n",
    ")\n",
    "\n",
    "model = keras.Sequential([layers.BatchNormalization(input_shape=[16]),\n",
    "                         layers.Dense(1024, activation='relu'),\n",
    "                         layers.BatchNormalization(),\n",
    "                         layers.Dropout(rate=0.5),\n",
    "                         layers.Dense(1024, activation='relu'),\n",
    "                         layers.BatchNormalization(),\n",
    "                         layers.Dropout(rate=0.5),\n",
    "                         layers.Dense(1024, activation='relu'),\n",
    "                         layers.BatchNormalization(),\n",
    "                          layers.Dropout(rate=0.5),\n",
    "                         layers.Dense(1024, activation='relu'),\n",
    "                          layers.BatchNormalization(),\n",
    "                          layers.Dropout(rate=0.5),\n",
    "                          layers.Dense(1024, activation='relu'),\n",
    "                          layers.BatchNormalization(),\n",
    "                          layers.Dropout(rate=0.5),\n",
    "                          layers.Dense(1, activation='sigmoid')\n",
    "                         ])\n",
    "\n",
    "model.compile(loss=keras.losses.BinaryCrossentropy(),\n",
    "              optimizer=keras.optimizers.Adam(),\n",
    "              metrics=['binary_accuracy']\n",
    ")\n",
    "\n",
    "fit_object = model.fit(X_train, y_train,\n",
    "                       epochs=150,\n",
    "                       batch_size=128,\n",
    "                       validation_data=(X_valid, y_valid),\n",
    "                       callbacks=[early_stopping],\n",
    "                       verbose=False\n",
    "         )"
   ]
  },
  {
   "cell_type": "code",
   "execution_count": 6,
   "id": "5c1731dd-b2e7-4403-ab96-4ae17d7f5994",
   "metadata": {},
   "outputs": [
    {
     "data": {
      "text/plain": [
       "<Axes: >"
      ]
     },
     "execution_count": 6,
     "metadata": {},
     "output_type": "execute_result"
    },
    {
     "data": {
      "image/png": "[encoded data removed]",
      "text/plain": [
       "<Figure size 640x480 with 1 Axes>"
      ]
     },
     "metadata": {},
     "output_type": "display_data"
    }
   ],
   "source": [
    "history_df = pd.DataFrame(fit_object.history)\n",
    "history_df.loc[:, ['loss', 'val_loss']].plot()"
   ]
  },
  {
   "cell_type": "code",
   "execution_count": 8,
   "id": "5b680d03-50a0-4f03-a823-f44c6bfa1c17",
   "metadata": {},
   "outputs": [
    {
     "name": "stdout",
     "output_type": "stream",
     "text": [
      "134/134 [==============================] - 1s 9ms/step\n"
     ]
    }
   ],
   "source": [
    "yhat_test = np.where(model.predict(X_test).squeeze() >= 0.5, True, False)\n",
    "\n",
    "output = pd.DataFrame({'PassengerId': test_data.PassengerId,\n",
    "                       'Transported': yhat_test\n",
    "})\n",
    "\n",
    "output.to_csv('submission_nn_val.csv', index=False)"
   ]
  },
  {
   "cell_type": "code",
   "execution_count": null,
   "id": "067e58b7-fab8-470e-9c92-c93ccb583c96",
   "metadata": {},
   "outputs": [],
   "source": []
  }
 ],
 "metadata": {
  "kernelspec": {
   "display_name": "Python 3 (ipykernel)",
   "language": "python",
   "name": "python3"
  },
  "language_info": {
   "codemirror_mode": {
    "name": "ipython",
    "version": 3
   },
   "file_extension": ".py",
   "mimetype": "text/x-python",
   "name": "python",
   "nbconvert_exporter": "python",
   "pygments_lexer": "ipython3",
   "version": "3.11.4"
  }
 },
 "nbformat": 4,
 "nbformat_minor": 5
}
